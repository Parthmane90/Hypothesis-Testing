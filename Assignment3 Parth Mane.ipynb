{
 "cells": [
  {
   "cell_type": "code",
   "execution_count": 1,
   "id": "6089ae3d",
   "metadata": {},
   "outputs": [],
   "source": [
    "import pandas as pd\n",
    "from scipy import stats\n",
    "import numpy as np"
   ]
  },
  {
   "cell_type": "markdown",
   "id": "2786e23f",
   "metadata": {},
   "source": [
    "**Question No. 01**"
   ]
  },
  {
   "cell_type": "code",
   "execution_count": 2,
   "id": "5ac6476e",
   "metadata": {},
   "outputs": [],
   "source": [
    "df= pd.read_csv('D:\\\\Data science\\\\Assignments\\\\A 3 Hypothesis Testing\\\\Cutlets.csv')"
   ]
  },
  {
   "cell_type": "code",
   "execution_count": 19,
   "id": "8eaabb0c",
   "metadata": {},
   "outputs": [
    {
     "data": {
      "text/plain": [
       "<bound method NDFrame.describe of      Laboratory 1  Laboratory 2  Laboratory 3  Laboratory 4\n",
       "0          185.35        165.53        176.70        166.13\n",
       "1          170.49        185.91        198.45        160.79\n",
       "2          192.77        194.92        201.23        185.18\n",
       "3          177.33        183.00        199.61        176.42\n",
       "4          193.41        169.57        204.63        152.60\n",
       "..            ...           ...           ...           ...\n",
       "115        178.49        170.66        193.80        172.68\n",
       "116        176.08        183.98        215.25        177.64\n",
       "117        202.48        174.54        203.99        170.27\n",
       "118        182.40        197.18        194.52        150.87\n",
       "119        182.09        215.17        221.49        162.21\n",
       "\n",
       "[120 rows x 4 columns]>"
      ]
     },
     "execution_count": 19,
     "metadata": {},
     "output_type": "execute_result"
    }
   ],
   "source": [
    "df.describe"
   ]
  },
  {
   "cell_type": "markdown",
   "id": "4964fc3a",
   "metadata": {},
   "source": [
    "In this Question: \n",
    "Null Hypothersis(HO):- Unit A = Unit B,\n",
    "Alternate Hypothesis(HA):- Unit A is not equal to Unit B"
   ]
  },
  {
   "cell_type": "code",
   "execution_count": 5,
   "id": "0264c384",
   "metadata": {},
   "outputs": [
    {
     "data": {
      "text/plain": [
       "0    6.8090\n",
       "1    6.4376\n",
       "2    6.9157\n",
       "3    7.3012\n",
       "4    7.4488\n",
       "Name: Unit A, dtype: float64"
      ]
     },
     "execution_count": 5,
     "metadata": {},
     "output_type": "execute_result"
    }
   ],
   "source": [
    "UnitA = df.iloc[:,0]\n",
    "UnitA.head()"
   ]
  },
  {
   "cell_type": "code",
   "execution_count": 6,
   "id": "0cc04693",
   "metadata": {},
   "outputs": [
    {
     "data": {
      "text/plain": [
       "0    6.7703\n",
       "1    7.5093\n",
       "2    6.7300\n",
       "3    6.7878\n",
       "4    7.1522\n",
       "Name: Unit B, dtype: float64"
      ]
     },
     "execution_count": 6,
     "metadata": {},
     "output_type": "execute_result"
    }
   ],
   "source": [
    "UnitB= df.iloc[:,1]\n",
    "UnitB.head()"
   ]
  },
  {
   "cell_type": "code",
   "execution_count": 7,
   "id": "dacb6e64",
   "metadata": {},
   "outputs": [
    {
     "data": {
      "text/plain": [
       "Ttest_indResult(statistic=0.7228688704678063, pvalue=0.4722394724599501)"
      ]
     },
     "execution_count": 7,
     "metadata": {},
     "output_type": "execute_result"
    }
   ],
   "source": [
    "stats.ttest_ind(UnitA,UnitB)"
   ]
  },
  {
   "cell_type": "markdown",
   "id": "3056cd8d",
   "metadata": {},
   "source": [
    "pvalue is not significant to alpha"
   ]
  },
  {
   "cell_type": "markdown",
   "id": "8e98bdd7",
   "metadata": {},
   "source": [
    "Here we can see that pvalue 0.4723 > 0.05 so We accept Null Hypothesis"
   ]
  },
  {
   "cell_type": "markdown",
   "id": "14f5b82e",
   "metadata": {},
   "source": [
    "**Hence UnitA = UnitB**"
   ]
  },
  {
   "cell_type": "markdown",
   "id": "dfdd91e4",
   "metadata": {},
   "source": [
    "**Question No. 02**"
   ]
  },
  {
   "cell_type": "code",
   "execution_count": 8,
   "id": "28c7807b",
   "metadata": {},
   "outputs": [],
   "source": [
    "df= pd.read_csv(\"D:\\\\Data science\\\\Assignments\\\\A 3 Hypothesis Testing\\\\LabTAT.csv\")"
   ]
  },
  {
   "cell_type": "code",
   "execution_count": 20,
   "id": "afedf392",
   "metadata": {},
   "outputs": [
    {
     "data": {
      "text/plain": [
       "<bound method NDFrame.describe of      Laboratory 1  Laboratory 2  Laboratory 3  Laboratory 4\n",
       "0          185.35        165.53        176.70        166.13\n",
       "1          170.49        185.91        198.45        160.79\n",
       "2          192.77        194.92        201.23        185.18\n",
       "3          177.33        183.00        199.61        176.42\n",
       "4          193.41        169.57        204.63        152.60\n",
       "..            ...           ...           ...           ...\n",
       "115        178.49        170.66        193.80        172.68\n",
       "116        176.08        183.98        215.25        177.64\n",
       "117        202.48        174.54        203.99        170.27\n",
       "118        182.40        197.18        194.52        150.87\n",
       "119        182.09        215.17        221.49        162.21\n",
       "\n",
       "[120 rows x 4 columns]>"
      ]
     },
     "execution_count": 20,
     "metadata": {},
     "output_type": "execute_result"
    }
   ],
   "source": [
    "df.describe"
   ]
  },
  {
   "cell_type": "markdown",
   "id": "d257803b",
   "metadata": {},
   "source": [
    "In this Question: Null Hypothesis(HO):- All averages are Equal,"
   ]
  },
  {
   "cell_type": "markdown",
   "id": "105d90bf",
   "metadata": {},
   "source": [
    "Alternate Hypothesis(HA):- All Averages are different"
   ]
  },
  {
   "cell_type": "code",
   "execution_count": 12,
   "id": "d0b7195a",
   "metadata": {},
   "outputs": [],
   "source": [
    "Lab1= df.iloc[:,0]\n",
    "Lab2= df.iloc[:,1]\n",
    "Lab3= df.iloc[:,2]\n",
    "Lab4= df.iloc[:,3]"
   ]
  },
  {
   "cell_type": "code",
   "execution_count": 26,
   "id": "f833c1a9",
   "metadata": {},
   "outputs": [
    {
     "data": {
      "text/plain": [
       "F_onewayResult(statistic=118.70421654401437, pvalue=2.1156708949992414e-57)"
      ]
     },
     "execution_count": 26,
     "metadata": {},
     "output_type": "execute_result"
    }
   ],
   "source": [
    "stats.f_oneway(Lab1,Lab2,Lab3,Lab4)"
   ]
  },
  {
   "cell_type": "markdown",
   "id": "f340297b",
   "metadata": {},
   "source": [
    "pvalue is significant to alpha 2.1167e-57 < 0.05 So we reject Null Hypothesis"
   ]
  },
  {
   "cell_type": "markdown",
   "id": "68610047",
   "metadata": {},
   "source": [
    "**All Laboratory Averages are different**"
   ]
  },
  {
   "cell_type": "markdown",
   "id": "9e8a4d55",
   "metadata": {},
   "source": [
    "**Question No.03**"
   ]
  },
  {
   "cell_type": "code",
   "execution_count": 27,
   "id": "63a3b0cf",
   "metadata": {},
   "outputs": [],
   "source": [
    "df= pd.read_csv('D:\\\\Data science\\\\Assignments\\\\A 3 Hypothesis Testing\\\\Buyerratio.csv')"
   ]
  },
  {
   "cell_type": "code",
   "execution_count": 28,
   "id": "ae969f43",
   "metadata": {},
   "outputs": [
    {
     "data": {
      "text/plain": [
       "<bound method NDFrame.describe of   Observed Values  East  West  North  South\n",
       "0           Males    50   142    131     70\n",
       "1         Females   435  1523   1356    750>"
      ]
     },
     "execution_count": 28,
     "metadata": {},
     "output_type": "execute_result"
    }
   ],
   "source": [
    "df.describe"
   ]
  },
  {
   "cell_type": "markdown",
   "id": "8d1e2fed",
   "metadata": {},
   "source": [
    "In this Question:"
   ]
  },
  {
   "cell_type": "markdown",
   "id": "dd21f5d3",
   "metadata": {},
   "source": [
    "Null Hypothesis(HO):- All Properties are equal"
   ]
  },
  {
   "cell_type": "markdown",
   "id": "ac70beec",
   "metadata": {},
   "source": [
    "Alternate Hypothesis(HA):- Not all Properties are equal"
   ]
  },
  {
   "cell_type": "code",
   "execution_count": 32,
   "id": "03911779",
   "metadata": {},
   "outputs": [],
   "source": [
    "Sales= df.iloc[:,1:5]\n",
    "Sales= Sales.values"
   ]
  },
  {
   "cell_type": "code",
   "execution_count": 33,
   "id": "6b0dfa0b",
   "metadata": {},
   "outputs": [
    {
     "data": {
      "text/plain": [
       "array([[  50,  142,  131,   70],\n",
       "       [ 435, 1523, 1356,  750]], dtype=int64)"
      ]
     },
     "execution_count": 33,
     "metadata": {},
     "output_type": "execute_result"
    }
   ],
   "source": [
    "Sales"
   ]
  },
  {
   "cell_type": "code",
   "execution_count": 35,
   "id": "2047ce73",
   "metadata": {},
   "outputs": [
    {
     "data": {
      "text/plain": [
       "(1.595945538661058,\n",
       " 0.6603094907091882,\n",
       " 3,\n",
       " array([[  42.76531299,  146.81287862,  131.11756787,   72.30424052],\n",
       "        [ 442.23468701, 1518.18712138, 1355.88243213,  747.69575948]]))"
      ]
     },
     "execution_count": 35,
     "metadata": {},
     "output_type": "execute_result"
    }
   ],
   "source": [
    "stats.chi2_contingency(Sales)"
   ]
  },
  {
   "cell_type": "markdown",
   "id": "eb81f28e",
   "metadata": {},
   "source": [
    "pvalue is not significant to alpha 0.660 > 0.05 So we accept Null Hypothesis"
   ]
  },
  {
   "cell_type": "markdown",
   "id": "f18eeb43",
   "metadata": {},
   "source": [
    "**All properties are equal**"
   ]
  },
  {
   "cell_type": "markdown",
   "id": "3f976a84",
   "metadata": {},
   "source": [
    "**Question N0. 04**"
   ]
  },
  {
   "cell_type": "code",
   "execution_count": 36,
   "id": "58ab3f1a",
   "metadata": {},
   "outputs": [],
   "source": [
    "df= pd.read_csv('D:\\\\Data science\\Assignments\\\\A 3 Hypothesis Testing\\\\Costomer+OrderForm.csv')"
   ]
  },
  {
   "cell_type": "code",
   "execution_count": 38,
   "id": "c9ab5850",
   "metadata": {},
   "outputs": [
    {
     "data": {
      "text/html": [
       "<div>\n",
       "<style scoped>\n",
       "    .dataframe tbody tr th:only-of-type {\n",
       "        vertical-align: middle;\n",
       "    }\n",
       "\n",
       "    .dataframe tbody tr th {\n",
       "        vertical-align: top;\n",
       "    }\n",
       "\n",
       "    .dataframe thead th {\n",
       "        text-align: right;\n",
       "    }\n",
       "</style>\n",
       "<table border=\"1\" class=\"dataframe\">\n",
       "  <thead>\n",
       "    <tr style=\"text-align: right;\">\n",
       "      <th></th>\n",
       "      <th>Phillippines</th>\n",
       "      <th>Indonesia</th>\n",
       "      <th>Malta</th>\n",
       "      <th>India</th>\n",
       "    </tr>\n",
       "  </thead>\n",
       "  <tbody>\n",
       "    <tr>\n",
       "      <th>0</th>\n",
       "      <td>Error Free</td>\n",
       "      <td>Error Free</td>\n",
       "      <td>Defective</td>\n",
       "      <td>Error Free</td>\n",
       "    </tr>\n",
       "    <tr>\n",
       "      <th>1</th>\n",
       "      <td>Error Free</td>\n",
       "      <td>Error Free</td>\n",
       "      <td>Error Free</td>\n",
       "      <td>Defective</td>\n",
       "    </tr>\n",
       "    <tr>\n",
       "      <th>2</th>\n",
       "      <td>Error Free</td>\n",
       "      <td>Defective</td>\n",
       "      <td>Defective</td>\n",
       "      <td>Error Free</td>\n",
       "    </tr>\n",
       "    <tr>\n",
       "      <th>3</th>\n",
       "      <td>Error Free</td>\n",
       "      <td>Error Free</td>\n",
       "      <td>Error Free</td>\n",
       "      <td>Error Free</td>\n",
       "    </tr>\n",
       "    <tr>\n",
       "      <th>4</th>\n",
       "      <td>Error Free</td>\n",
       "      <td>Error Free</td>\n",
       "      <td>Defective</td>\n",
       "      <td>Error Free</td>\n",
       "    </tr>\n",
       "  </tbody>\n",
       "</table>\n",
       "</div>"
      ],
      "text/plain": [
       "  Phillippines   Indonesia       Malta       India\n",
       "0   Error Free  Error Free   Defective  Error Free\n",
       "1   Error Free  Error Free  Error Free   Defective\n",
       "2   Error Free   Defective   Defective  Error Free\n",
       "3   Error Free  Error Free  Error Free  Error Free\n",
       "4   Error Free  Error Free   Defective  Error Free"
      ]
     },
     "execution_count": 38,
     "metadata": {},
     "output_type": "execute_result"
    }
   ],
   "source": [
    "df.head()"
   ]
  },
  {
   "cell_type": "code",
   "execution_count": 37,
   "id": "d9352f46",
   "metadata": {},
   "outputs": [
    {
     "data": {
      "text/plain": [
       "<bound method NDFrame.describe of     Phillippines   Indonesia       Malta       India\n",
       "0     Error Free  Error Free   Defective  Error Free\n",
       "1     Error Free  Error Free  Error Free   Defective\n",
       "2     Error Free   Defective   Defective  Error Free\n",
       "3     Error Free  Error Free  Error Free  Error Free\n",
       "4     Error Free  Error Free   Defective  Error Free\n",
       "..           ...         ...         ...         ...\n",
       "295   Error Free  Error Free  Error Free  Error Free\n",
       "296   Error Free  Error Free  Error Free  Error Free\n",
       "297   Error Free  Error Free   Defective  Error Free\n",
       "298   Error Free  Error Free  Error Free  Error Free\n",
       "299   Error Free   Defective   Defective  Error Free\n",
       "\n",
       "[300 rows x 4 columns]>"
      ]
     },
     "execution_count": 37,
     "metadata": {},
     "output_type": "execute_result"
    }
   ],
   "source": [
    "df.describe"
   ]
  },
  {
   "cell_type": "markdown",
   "id": "e5a4dd9c",
   "metadata": {},
   "source": [
    "In this question:"
   ]
  },
  {
   "cell_type": "markdown",
   "id": "f3b04308",
   "metadata": {},
   "source": [
    "Null Hypothesis(HO):- Defective% varies by Centre"
   ]
  },
  {
   "cell_type": "markdown",
   "id": "f4d952bb",
   "metadata": {},
   "source": [
    "Alternate Hypothesis((HA):- Defective% does not Varies by Centre"
   ]
  },
  {
   "cell_type": "code",
   "execution_count": 45,
   "id": "7f53bd07",
   "metadata": {},
   "outputs": [
    {
     "data": {
      "text/plain": [
       "Error Free    271\n",
       "Defective      29\n",
       "Name: Phillippines, dtype: int64"
      ]
     },
     "execution_count": 45,
     "metadata": {},
     "output_type": "execute_result"
    }
   ],
   "source": [
    "df.Phillippines.value_counts()"
   ]
  },
  {
   "cell_type": "code",
   "execution_count": 46,
   "id": "12a7b263",
   "metadata": {},
   "outputs": [
    {
     "data": {
      "text/plain": [
       "Error Free    267\n",
       "Defective      33\n",
       "Name: Indonesia, dtype: int64"
      ]
     },
     "execution_count": 46,
     "metadata": {},
     "output_type": "execute_result"
    }
   ],
   "source": [
    "df.Indonesia.value_counts()"
   ]
  },
  {
   "cell_type": "code",
   "execution_count": 47,
   "id": "d353be54",
   "metadata": {},
   "outputs": [
    {
     "data": {
      "text/plain": [
       "Error Free    269\n",
       "Defective      31\n",
       "Name: Malta, dtype: int64"
      ]
     },
     "execution_count": 47,
     "metadata": {},
     "output_type": "execute_result"
    }
   ],
   "source": [
    "df.Malta.value_counts()"
   ]
  },
  {
   "cell_type": "code",
   "execution_count": 48,
   "id": "c9d4e8d9",
   "metadata": {},
   "outputs": [
    {
     "data": {
      "text/plain": [
       "Error Free    280\n",
       "Defective      20\n",
       "Name: India, dtype: int64"
      ]
     },
     "execution_count": 48,
     "metadata": {},
     "output_type": "execute_result"
    }
   ],
   "source": [
    "df.India.value_counts()"
   ]
  },
  {
   "cell_type": "code",
   "execution_count": 49,
   "id": "d6ae3175",
   "metadata": {},
   "outputs": [],
   "source": [
    "Telecall = np.array([[271,267,269,280],[29,33,31,20]])"
   ]
  },
  {
   "cell_type": "code",
   "execution_count": 51,
   "id": "64f739ad",
   "metadata": {},
   "outputs": [
    {
     "data": {
      "text/plain": [
       "(3.858960685820355,\n",
       " 0.2771020991233135,\n",
       " 3,\n",
       " array([[271.75, 271.75, 271.75, 271.75],\n",
       "        [ 28.25,  28.25,  28.25,  28.25]]))"
      ]
     },
     "execution_count": 51,
     "metadata": {},
     "output_type": "execute_result"
    }
   ],
   "source": [
    "stats.chi2_contingency(Telecall)"
   ]
  },
  {
   "cell_type": "markdown",
   "id": "8e36cb82",
   "metadata": {},
   "source": [
    "pvalue is not significant to alpha 0.2771 > 0.05 So we accept Null Hypothesis"
   ]
  },
  {
   "cell_type": "markdown",
   "id": "5a305faf",
   "metadata": {},
   "source": [
    "**Defective % varies by Centre**"
   ]
  },
  {
   "cell_type": "code",
   "execution_count": null,
   "id": "38d24865",
   "metadata": {},
   "outputs": [],
   "source": []
  }
 ],
 "metadata": {
  "kernelspec": {
   "display_name": "Python 3 (ipykernel)",
   "language": "python",
   "name": "python3"
  },
  "language_info": {
   "codemirror_mode": {
    "name": "ipython",
    "version": 3
   },
   "file_extension": ".py",
   "mimetype": "text/x-python",
   "name": "python",
   "nbconvert_exporter": "python",
   "pygments_lexer": "ipython3",
   "version": "3.9.13"
  }
 },
 "nbformat": 4,
 "nbformat_minor": 5
}
